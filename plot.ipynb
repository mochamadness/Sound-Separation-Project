{
 "cells": [
  {
   "cell_type": "code",
   "execution_count": 2,
   "metadata": {},
   "outputs": [
    {
     "name": "stdout",
     "output_type": "stream",
     "text": [
      "Waveform shape: torch.Size([1, 1, 80000])\n"
     ]
    }
   ],
   "source": [
    "import torchaudio\n",
    "import torch\n",
    "\n",
    "# Step 1: Load the audio file\n",
    "waveform, sample_rate = torchaudio.load(\"test_in_1d/1n4_1.wav\")  # waveform shape: (1, T)\n",
    "\n",
    "# Step 2: Normalize the waveform (optional, but recommended)\n",
    "waveform = waveform / torch.max(torch.abs(waveform))\n",
    "\n",
    "# Step 3: Convert to tensor (already a tensor in torchaudio)\n",
    "# Step 4: Reshape for Conv-TasNet input\n",
    "waveform = waveform.unsqueeze(0)  # Add batch dimension: (1, 1, T)\n",
    "\n",
    "print(\"Waveform shape:\", waveform.shape)"
   ]
  },
  {
   "cell_type": "code",
   "execution_count": 3,
   "metadata": {},
   "outputs": [
    {
     "ename": "",
     "evalue": "",
     "output_type": "error",
     "traceback": [
      "\u001b[1;31mThe Kernel crashed while executing code in the current cell or a previous cell. \n",
      "\u001b[1;31mPlease review the code in the cell(s) to identify a possible cause of the failure. \n",
      "\u001b[1;31mClick <a href='https://aka.ms/vscodeJupyterKernelCrash'>here</a> for more info. \n",
      "\u001b[1;31mView Jupyter <a href='command:jupyter.viewOutput'>log</a> for further details."
     ]
    }
   ],
   "source": [
    "import matplotlib.pyplot as plt\n",
    "\n",
    "# Convert tensor to NumPy\n",
    "waveform_np = waveform.squeeze().numpy()  # Remove batch and channel dimensions\n",
    "\n",
    "# Create a time axis (in seconds)\n",
    "time_axis = torch.arange(0, waveform_np.shape[0]) / sample_rate\n",
    "\n",
    "# Plot the waveform\n",
    "plt.figure(figsize=(10, 4))\n",
    "plt.plot(time_axis, waveform_np)\n",
    "plt.title(\"Waveform of Audio File\")\n",
    "plt.xlabel(\"Time (s)\")\n",
    "plt.ylabel(\"Amplitude\")\n",
    "plt.show()"
   ]
  }
 ],
 "metadata": {
  "kernelspec": {
   "display_name": "base",
   "language": "python",
   "name": "python3"
  },
  "language_info": {
   "codemirror_mode": {
    "name": "ipython",
    "version": 3
   },
   "file_extension": ".py",
   "mimetype": "text/x-python",
   "name": "python",
   "nbconvert_exporter": "python",
   "pygments_lexer": "ipython3",
   "version": "3.12.7"
  }
 },
 "nbformat": 4,
 "nbformat_minor": 2
}
