{
 "cells": [
  {
   "cell_type": "code",
   "execution_count": null,
   "metadata": {
    "vscode": {
     "languageId": "plaintext"
    }
   },
   "outputs": [],
   "source": [
    "#!pip install -qq speechbrain==0.5.16\n",
    "#!pip install -qq ipython==7.34.0\n",
    "#!pip install -qq pyannote.audio[separation]==3.3.0"
   ]
  },
  {
   "cell_type": "code",
   "execution_count": null,
   "metadata": {
    "vscode": {
     "languageId": "plaintext"
    }
   },
   "outputs": [],
   "source": [
    "from pyannote.database.util import load_rttm\n",
    "from pyannote.audio.core.io import Audio"
   ]
  },
  {
   "cell_type": "code",
   "execution_count": null,
   "metadata": {
    "vscode": {
     "languageId": "plaintext"
    }
   },
   "outputs": [],
   "source": [
    "audio = Audio()"
   ]
  },
  {
   "cell_type": "code",
   "execution_count": null,
   "metadata": {
    "vscode": {
     "languageId": "plaintext"
    }
   },
   "outputs": [],
   "source": [
    "uri_new = \"truyen\"\n",
    "file_new = \"untitled.wav\"\n",
    "mixture_new, sample_rate_new = audio(file=file_new)"
   ]
  },
  {
   "cell_type": "code",
   "execution_count": null,
   "metadata": {
    "vscode": {
     "languageId": "plaintext"
    }
   },
   "outputs": [],
   "source": [
    "from pyannote.audio import Pipeline\n",
    "pipeline = Pipeline.from_pretrained(\"config.yaml\")\n",
    "\n",
    "# you can safely ignore that various warnings below."
   ]
  },
  {
   "cell_type": "code",
   "execution_count": null,
   "metadata": {
    "vscode": {
     "languageId": "plaintext"
    }
   },
   "outputs": [],
   "source": [
    "pipeline.instantiate(\n",
    "    {\n",
    "        \"segmentation\": {\n",
    "            \"min_duration_off\": 0.0,\n",
    "            \"threshold\": 0.5,\n",
    "        },\n",
    "        \"clustering\": {\n",
    "            \"method\": \"centroid\",\n",
    "            \"threshold\": 0.68,\n",
    "            \"min_cluster_size\": 60,\n",
    "        },\n",
    "        \"separation\": {\n",
    "            \"leakage_removal\": True,\n",
    "            \"asr_collar\": 0.0,\n",
    "        }\n",
    "    }\n",
    ")"
   ]
  },
  {
   "cell_type": "code",
   "execution_count": null,
   "metadata": {
    "vscode": {
     "languageId": "plaintext"
    }
   },
   "outputs": [],
   "source": [
    "import torch\n",
    "device = torch.device(\"cuda\" if torch.cuda.is_available() else \"cpu\")\n",
    "pipeline.to(device=device)"
   ]
  },
  {
   "cell_type": "code",
   "execution_count": null,
   "metadata": {
    "vscode": {
     "languageId": "plaintext"
    }
   },
   "outputs": [],
   "source": [
    "from pyannote.metrics.diarization import DiarizationErrorRate\n",
    "from pyannote.audio.pipelines.utils.hook import ProgressHook\n",
    "\n",
    "metric = DiarizationErrorRate()\n",
    "\n",
    "# we use a ProgressHook, which will print progress for each step in the pipeline\n",
    "with ProgressHook() as hook:\n",
    "  # apply pipeline on the mixture file and get diarization prediction\n",
    "  diarization, sources_hat = pipeline({\"waveform\": mixture, \"sample_rate\": sample_rate}, hook=hook)"
   ]
  }
 ],
 "metadata": {
  "language_info": {
   "name": "python"
  }
 },
 "nbformat": 4,
 "nbformat_minor": 2
}
